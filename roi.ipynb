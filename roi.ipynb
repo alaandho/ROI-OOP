{
 "cells": [
  {
   "cell_type": "code",
   "execution_count": 6,
   "id": "1f0b313f",
   "metadata": {},
   "outputs": [
    {
     "ename": "NameError",
     "evalue": "name 'investments' is not defined",
     "output_type": "error",
     "traceback": [
      "\u001b[0;31m---------------------------------------------------------------------------\u001b[0m",
      "\u001b[0;31mNameError\u001b[0m                                 Traceback (most recent call last)",
      "\u001b[0;32m<ipython-input-6-a226399b38b7>\u001b[0m in \u001b[0;36m<module>\u001b[0;34m\u001b[0m\n\u001b[1;32m     55\u001b[0m                     \u001b[0;32mbreak\u001b[0m\u001b[0;34m\u001b[0m\u001b[0;34m\u001b[0m\u001b[0m\n\u001b[1;32m     56\u001b[0m \u001b[0;34m\u001b[0m\u001b[0m\n\u001b[0;32m---> 57\u001b[0;31m \u001b[0mrunCalc\u001b[0m \u001b[0;34m=\u001b[0m \u001b[0mroiCalc\u001b[0m\u001b[0;34m(\u001b[0m\u001b[0minvestments\u001b[0m\u001b[0;34m,\u001b[0m \u001b[0mexpenses\u001b[0m\u001b[0;34m)\u001b[0m\u001b[0;34m\u001b[0m\u001b[0;34m\u001b[0m\u001b[0m\n\u001b[0m",
      "\u001b[0;31mNameError\u001b[0m: name 'investments' is not defined"
     ]
    }
   ],
   "source": [
    "class roiCalc():\n",
    "    \n",
    "    def __init__(self, investments, expenses):\n",
    "        self.investments = investments\n",
    "        self.expenses = expenses\n",
    "        \n",
    "\n",
    "    def monthlyExp(self):\n",
    "        print('To calculate your ROI, enter your information below.')\n",
    "        property_tax = int(input('Enter monthly Property Tax amount: $ '))\n",
    "        property_ins = int(input('Enter monthly Property Insurance amount: $ '))\n",
    "        property_manage = int(input('Enter monthly Property Management amount: $ '))\n",
    "        capEx = int(input('Enter monthly CapEx amount: $ '))\n",
    "        m_vacancy = int(input('Enter monthly vacancy amount: $ '))\n",
    "        m_repairs = int(input('Enter monthly repairs amount: $ '))\n",
    "        m_mortgage = int(input('Enter monthly mortgage amount: $ '))\n",
    "        self.expenses = property_tax + property_ins + property_manage + capEx + m_vacancy + m_repairs + m_mortgage       \n",
    "        \n",
    "\n",
    "\n",
    "    def totalInvestments(self, investments):\n",
    "        print('To calculate your total investment, eneter your information below.')\n",
    "        down_payment = int(input('Enter total down payment on house: $ '))\n",
    "        closing_cost = int(input('Enter Closing Cost Estimate: $ '))\n",
    "        rehab_budget = int(input('Enter total Rehab Budget: $ '))\n",
    "        rental_income = int(input('Eneter monthly income: $ '))\n",
    "        self.investments = down_payment + closing_cost + rehab_budget + rental_income\n",
    "        return self.investments, rental_income\n",
    "    \n",
    "\n",
    "\n",
    "    def totalCalc(self, investments, rental_income):\n",
    "        total_monthly_cashflow = rental_income - self.expenses\n",
    "        print(f'Here is your estimated total monthly Cashflow based on your income and expenses: {total_monthly_cashflow}')\n",
    "        roi_calc = ((total_monthly_cashflow * 12)/ self.investments) * 100\n",
    "        print(f'Your yearly Return On Investment (ROI) for this property is: {roi_calc}')\n",
    "        \n",
    "     \n",
    "\n",
    "    def runROI():\n",
    "        while True: \n",
    "            print(\"Bigger Pockets is here to calculate your Rental Property ROI. Let's get started\")\n",
    "            r_roi = input('Your calculation has printed. Would you like to try another property? Enter yes or no ')\n",
    "            if r_roi.lower() == 'no':\n",
    "                print('Thank you, have a nice day!')\n",
    "            elif r_roi.lower() == 'yes':\n",
    "                print(\"Let's get started!\")\n",
    "            while True:\n",
    "                if r_roi.lower() == 0:\n",
    "                    self.monthlyExp()\n",
    "                elif r_roi.lower() == 0:\n",
    "                    self.totalInvestments()\n",
    "                elif r.roi.lower() == 0:\n",
    "                    self.totalCalc()\n",
    "                    break\n",
    "\n",
    "runCalc = roiCalc(investments, expenses)"
   ]
  },
  {
   "cell_type": "code",
   "execution_count": null,
   "id": "e5538383",
   "metadata": {},
   "outputs": [],
   "source": []
  }
 ],
 "metadata": {
  "kernelspec": {
   "display_name": "Python 3",
   "language": "python",
   "name": "python3"
  },
  "language_info": {
   "codemirror_mode": {
    "name": "ipython",
    "version": 3
   },
   "file_extension": ".py",
   "mimetype": "text/x-python",
   "name": "python",
   "nbconvert_exporter": "python",
   "pygments_lexer": "ipython3",
   "version": "3.8.8"
  }
 },
 "nbformat": 4,
 "nbformat_minor": 5
}
